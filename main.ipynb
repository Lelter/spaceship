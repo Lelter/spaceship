{
 "cells": [
  {
   "cell_type": "code",
   "execution_count": 74,
   "metadata": {
    "collapsed": true,
    "pycharm": {
     "name": "#%%\n"
    }
   },
   "outputs": [],
   "source": [
    "import pandas as pd\n",
    "import numpy as np\n",
    "import matplotlib.pyplot as plt\n",
    "import seaborn as sns"
   ]
  },
  {
   "cell_type": "code",
   "execution_count": 75,
   "outputs": [
    {
     "data": {
      "text/plain": "     PassengerId HomePlanet CryoSleep     Cabin  Destination   Age    VIP  \\\n3022     3275_01      Earth     False   F/617/S  55 Cancri e  35.0  False   \n6416     6778_01      Earth     False  F/1299/S  TRAPPIST-1e  47.0  False   \n4510     4793_02     Europa     False   E/310/S  TRAPPIST-1e  20.0  False   \n7151     7628_02       Mars     False   D/240/P  TRAPPIST-1e  36.0  False   \n1026     1091_01       Mars      True   F/223/P  TRAPPIST-1e  35.0  False   \n\n      RoomService  FoodCourt  ShoppingMall    Spa  VRDeck               Name  \\\n3022        256.0        0.0         341.0   35.0     0.0  Darley Gibbsonton   \n6416          0.0      758.0           0.0    0.0  1417.0      Brada Fielson   \n4510          0.0     1131.0        3783.0  161.0     0.0   Chargin Brailidy   \n7151       1103.0        3.0           0.0    0.0   659.0           Ban Stre   \n1026          0.0        0.0           0.0    0.0     0.0        Dills Miste   \n\n      Transported  \n3022         True  \n6416        False  \n4510         True  \n7151        False  \n1026         True  ",
      "text/html": "<div>\n<style scoped>\n    .dataframe tbody tr th:only-of-type {\n        vertical-align: middle;\n    }\n\n    .dataframe tbody tr th {\n        vertical-align: top;\n    }\n\n    .dataframe thead th {\n        text-align: right;\n    }\n</style>\n<table border=\"1\" class=\"dataframe\">\n  <thead>\n    <tr style=\"text-align: right;\">\n      <th></th>\n      <th>PassengerId</th>\n      <th>HomePlanet</th>\n      <th>CryoSleep</th>\n      <th>Cabin</th>\n      <th>Destination</th>\n      <th>Age</th>\n      <th>VIP</th>\n      <th>RoomService</th>\n      <th>FoodCourt</th>\n      <th>ShoppingMall</th>\n      <th>Spa</th>\n      <th>VRDeck</th>\n      <th>Name</th>\n      <th>Transported</th>\n    </tr>\n  </thead>\n  <tbody>\n    <tr>\n      <th>3022</th>\n      <td>3275_01</td>\n      <td>Earth</td>\n      <td>False</td>\n      <td>F/617/S</td>\n      <td>55 Cancri e</td>\n      <td>35.0</td>\n      <td>False</td>\n      <td>256.0</td>\n      <td>0.0</td>\n      <td>341.0</td>\n      <td>35.0</td>\n      <td>0.0</td>\n      <td>Darley Gibbsonton</td>\n      <td>True</td>\n    </tr>\n    <tr>\n      <th>6416</th>\n      <td>6778_01</td>\n      <td>Earth</td>\n      <td>False</td>\n      <td>F/1299/S</td>\n      <td>TRAPPIST-1e</td>\n      <td>47.0</td>\n      <td>False</td>\n      <td>0.0</td>\n      <td>758.0</td>\n      <td>0.0</td>\n      <td>0.0</td>\n      <td>1417.0</td>\n      <td>Brada Fielson</td>\n      <td>False</td>\n    </tr>\n    <tr>\n      <th>4510</th>\n      <td>4793_02</td>\n      <td>Europa</td>\n      <td>False</td>\n      <td>E/310/S</td>\n      <td>TRAPPIST-1e</td>\n      <td>20.0</td>\n      <td>False</td>\n      <td>0.0</td>\n      <td>1131.0</td>\n      <td>3783.0</td>\n      <td>161.0</td>\n      <td>0.0</td>\n      <td>Chargin Brailidy</td>\n      <td>True</td>\n    </tr>\n    <tr>\n      <th>7151</th>\n      <td>7628_02</td>\n      <td>Mars</td>\n      <td>False</td>\n      <td>D/240/P</td>\n      <td>TRAPPIST-1e</td>\n      <td>36.0</td>\n      <td>False</td>\n      <td>1103.0</td>\n      <td>3.0</td>\n      <td>0.0</td>\n      <td>0.0</td>\n      <td>659.0</td>\n      <td>Ban Stre</td>\n      <td>False</td>\n    </tr>\n    <tr>\n      <th>1026</th>\n      <td>1091_01</td>\n      <td>Mars</td>\n      <td>True</td>\n      <td>F/223/P</td>\n      <td>TRAPPIST-1e</td>\n      <td>35.0</td>\n      <td>False</td>\n      <td>0.0</td>\n      <td>0.0</td>\n      <td>0.0</td>\n      <td>0.0</td>\n      <td>0.0</td>\n      <td>Dills Miste</td>\n      <td>True</td>\n    </tr>\n  </tbody>\n</table>\n</div>"
     },
     "execution_count": 75,
     "metadata": {},
     "output_type": "execute_result"
    }
   ],
   "source": [
    "train = pd.read_csv('dataset/train.csv')\n",
    "test = pd.read_csv('dataset/test.csv')\n",
    "train.sample(5)"
   ],
   "metadata": {
    "collapsed": false,
    "pycharm": {
     "name": "#%%\n"
    }
   }
  },
  {
   "cell_type": "code",
   "execution_count": 76,
   "outputs": [
    {
     "data": {
      "text/plain": "     PassengerId HomePlanet CryoSleep     Cabin  Destination   Age    VIP  \\\n4188     9086_01      Earth      True  G/1462/S  TRAPPIST-1e  22.0  False   \n3198     6989_01      Earth      True  G/1140/S  TRAPPIST-1e  59.0  False   \n4161     9027_01      Earth     False  F/1750/S  TRAPPIST-1e  43.0  False   \n1086     2304_01      Earth      True   G/370/P  TRAPPIST-1e  21.0  False   \n683      1392_01     Europa     False    B/46/P  TRAPPIST-1e  42.0  False   \n\n      RoomService  FoodCourt  ShoppingMall    Spa  VRDeck               Name  \n4188          0.0        0.0           0.0    0.0     NaN  Therry Craftstens  \n3198          0.0        0.0           0.0    0.0     0.0  Blancy Fisheparks  \n4161          1.0        0.0           0.0    0.0  1995.0   Geneen Mcleandez  \n1086          0.0        0.0           0.0    0.0     0.0    Glenry Herreras  \n683           0.0     2799.0          23.0  151.0  1260.0     Menchah Horbox  ",
      "text/html": "<div>\n<style scoped>\n    .dataframe tbody tr th:only-of-type {\n        vertical-align: middle;\n    }\n\n    .dataframe tbody tr th {\n        vertical-align: top;\n    }\n\n    .dataframe thead th {\n        text-align: right;\n    }\n</style>\n<table border=\"1\" class=\"dataframe\">\n  <thead>\n    <tr style=\"text-align: right;\">\n      <th></th>\n      <th>PassengerId</th>\n      <th>HomePlanet</th>\n      <th>CryoSleep</th>\n      <th>Cabin</th>\n      <th>Destination</th>\n      <th>Age</th>\n      <th>VIP</th>\n      <th>RoomService</th>\n      <th>FoodCourt</th>\n      <th>ShoppingMall</th>\n      <th>Spa</th>\n      <th>VRDeck</th>\n      <th>Name</th>\n    </tr>\n  </thead>\n  <tbody>\n    <tr>\n      <th>4188</th>\n      <td>9086_01</td>\n      <td>Earth</td>\n      <td>True</td>\n      <td>G/1462/S</td>\n      <td>TRAPPIST-1e</td>\n      <td>22.0</td>\n      <td>False</td>\n      <td>0.0</td>\n      <td>0.0</td>\n      <td>0.0</td>\n      <td>0.0</td>\n      <td>NaN</td>\n      <td>Therry Craftstens</td>\n    </tr>\n    <tr>\n      <th>3198</th>\n      <td>6989_01</td>\n      <td>Earth</td>\n      <td>True</td>\n      <td>G/1140/S</td>\n      <td>TRAPPIST-1e</td>\n      <td>59.0</td>\n      <td>False</td>\n      <td>0.0</td>\n      <td>0.0</td>\n      <td>0.0</td>\n      <td>0.0</td>\n      <td>0.0</td>\n      <td>Blancy Fisheparks</td>\n    </tr>\n    <tr>\n      <th>4161</th>\n      <td>9027_01</td>\n      <td>Earth</td>\n      <td>False</td>\n      <td>F/1750/S</td>\n      <td>TRAPPIST-1e</td>\n      <td>43.0</td>\n      <td>False</td>\n      <td>1.0</td>\n      <td>0.0</td>\n      <td>0.0</td>\n      <td>0.0</td>\n      <td>1995.0</td>\n      <td>Geneen Mcleandez</td>\n    </tr>\n    <tr>\n      <th>1086</th>\n      <td>2304_01</td>\n      <td>Earth</td>\n      <td>True</td>\n      <td>G/370/P</td>\n      <td>TRAPPIST-1e</td>\n      <td>21.0</td>\n      <td>False</td>\n      <td>0.0</td>\n      <td>0.0</td>\n      <td>0.0</td>\n      <td>0.0</td>\n      <td>0.0</td>\n      <td>Glenry Herreras</td>\n    </tr>\n    <tr>\n      <th>683</th>\n      <td>1392_01</td>\n      <td>Europa</td>\n      <td>False</td>\n      <td>B/46/P</td>\n      <td>TRAPPIST-1e</td>\n      <td>42.0</td>\n      <td>False</td>\n      <td>0.0</td>\n      <td>2799.0</td>\n      <td>23.0</td>\n      <td>151.0</td>\n      <td>1260.0</td>\n      <td>Menchah Horbox</td>\n    </tr>\n  </tbody>\n</table>\n</div>"
     },
     "execution_count": 76,
     "metadata": {},
     "output_type": "execute_result"
    }
   ],
   "source": [
    "test.sample(5)"
   ],
   "metadata": {
    "collapsed": false,
    "pycharm": {
     "name": "#%%\n"
    }
   }
  },
  {
   "cell_type": "code",
   "execution_count": 77,
   "outputs": [],
   "source": [
    "train[[\"groupId\", \"groupPassengerId\"]] = train[\"PassengerId\"].str.split(\"_\", expand=True).astype(int)\n",
    "train[[\"deck\", \"num\", \"side\"]] = train[\"Cabin\"].str.split(\"/\", expand=True)\n",
    "train[[\"totalSpending\"]] = train[[\"RoomService\", \"FoodCourt\", \"ShoppingMall\", \"Spa\", \"VRDeck\"]].sum(axis=1)\n",
    "test[[\"groupId\", \"groupPassengerId\"]] = test[\"PassengerId\"].str.split(\"_\", expand=True).astype(int)\n",
    "test[[\"deck\", \"num\", \"side\"]] = test[\"Cabin\"].str.split(\"/\", expand=True)\n",
    "test[[\"totalSpending\"]] = test[[\"RoomService\", \"FoodCourt\", \"ShoppingMall\", \"Spa\", \"VRDeck\"]].sum(axis=1)"
   ],
   "metadata": {
    "collapsed": false,
    "pycharm": {
     "name": "#%%\n"
    }
   }
  },
  {
   "cell_type": "code",
   "execution_count": 78,
   "outputs": [
    {
     "name": "stdout",
     "output_type": "stream",
     "text": [
      "<class 'pandas.core.frame.DataFrame'>\n",
      "RangeIndex: 8693 entries, 0 to 8692\n",
      "Data columns (total 20 columns):\n",
      " #   Column            Non-Null Count  Dtype  \n",
      "---  ------            --------------  -----  \n",
      " 0   PassengerId       8693 non-null   object \n",
      " 1   HomePlanet        8492 non-null   object \n",
      " 2   CryoSleep         8476 non-null   object \n",
      " 3   Cabin             8494 non-null   object \n",
      " 4   Destination       8511 non-null   object \n",
      " 5   Age               8514 non-null   float64\n",
      " 6   VIP               8490 non-null   object \n",
      " 7   RoomService       8512 non-null   float64\n",
      " 8   FoodCourt         8510 non-null   float64\n",
      " 9   ShoppingMall      8485 non-null   float64\n",
      " 10  Spa               8510 non-null   float64\n",
      " 11  VRDeck            8505 non-null   float64\n",
      " 12  Name              8493 non-null   object \n",
      " 13  Transported       8693 non-null   bool   \n",
      " 14  groupId           8693 non-null   int32  \n",
      " 15  groupPassengerId  8693 non-null   int32  \n",
      " 16  deck              8494 non-null   object \n",
      " 17  num               8494 non-null   object \n",
      " 18  side              8494 non-null   object \n",
      " 19  totalSpending     8693 non-null   float64\n",
      "dtypes: bool(1), float64(7), int32(2), object(10)\n",
      "memory usage: 1.2+ MB\n"
     ]
    }
   ],
   "source": [
    "train.info()"
   ],
   "metadata": {
    "collapsed": false,
    "pycharm": {
     "name": "#%%\n"
    }
   }
  },
  {
   "cell_type": "code",
   "execution_count": 79,
   "outputs": [
    {
     "name": "stdout",
     "output_type": "stream",
     "text": [
      "<class 'pandas.core.frame.DataFrame'>\n",
      "RangeIndex: 4277 entries, 0 to 4276\n",
      "Data columns (total 19 columns):\n",
      " #   Column            Non-Null Count  Dtype  \n",
      "---  ------            --------------  -----  \n",
      " 0   PassengerId       4277 non-null   object \n",
      " 1   HomePlanet        4190 non-null   object \n",
      " 2   CryoSleep         4184 non-null   object \n",
      " 3   Cabin             4177 non-null   object \n",
      " 4   Destination       4185 non-null   object \n",
      " 5   Age               4186 non-null   float64\n",
      " 6   VIP               4184 non-null   object \n",
      " 7   RoomService       4195 non-null   float64\n",
      " 8   FoodCourt         4171 non-null   float64\n",
      " 9   ShoppingMall      4179 non-null   float64\n",
      " 10  Spa               4176 non-null   float64\n",
      " 11  VRDeck            4197 non-null   float64\n",
      " 12  Name              4183 non-null   object \n",
      " 13  groupId           4277 non-null   int32  \n",
      " 14  groupPassengerId  4277 non-null   int32  \n",
      " 15  deck              4177 non-null   object \n",
      " 16  num               4177 non-null   object \n",
      " 17  side              4177 non-null   object \n",
      " 18  totalSpending     4277 non-null   float64\n",
      "dtypes: float64(7), int32(2), object(10)\n",
      "memory usage: 601.6+ KB\n"
     ]
    }
   ],
   "source": [
    "test.info()"
   ],
   "metadata": {
    "collapsed": false,
    "pycharm": {
     "name": "#%%\n"
    }
   }
  },
  {
   "cell_type": "code",
   "execution_count": 80,
   "outputs": [
    {
     "data": {
      "text/plain": "               Age   RoomService     FoodCourt  ShoppingMall           Spa  \\\ncount  8514.000000   8512.000000   8510.000000   8485.000000   8510.000000   \nmean     28.827930    224.687617    458.077203    173.729169    311.138778   \nstd      14.489021    666.717663   1611.489240    604.696458   1136.705535   \nmin       0.000000      0.000000      0.000000      0.000000      0.000000   \n25%      19.000000      0.000000      0.000000      0.000000      0.000000   \n50%      27.000000      0.000000      0.000000      0.000000      0.000000   \n75%      38.000000     47.000000     76.000000     27.000000     59.000000   \nmax      79.000000  14327.000000  29813.000000  23492.000000  22408.000000   \n\n             VRDeck      groupId  groupPassengerId  totalSpending  \ncount   8505.000000  8693.000000       8693.000000    8693.000000  \nmean     304.854791  4633.389624          1.517773    1440.866329  \nstd     1145.717189  2671.028856          1.054241    2803.045694  \nmin        0.000000     1.000000          1.000000       0.000000  \n25%        0.000000  2319.000000          1.000000       0.000000  \n50%        0.000000  4630.000000          1.000000     716.000000  \n75%       46.000000  6883.000000          2.000000    1441.000000  \nmax    24133.000000  9280.000000          8.000000   35987.000000  ",
      "text/html": "<div>\n<style scoped>\n    .dataframe tbody tr th:only-of-type {\n        vertical-align: middle;\n    }\n\n    .dataframe tbody tr th {\n        vertical-align: top;\n    }\n\n    .dataframe thead th {\n        text-align: right;\n    }\n</style>\n<table border=\"1\" class=\"dataframe\">\n  <thead>\n    <tr style=\"text-align: right;\">\n      <th></th>\n      <th>Age</th>\n      <th>RoomService</th>\n      <th>FoodCourt</th>\n      <th>ShoppingMall</th>\n      <th>Spa</th>\n      <th>VRDeck</th>\n      <th>groupId</th>\n      <th>groupPassengerId</th>\n      <th>totalSpending</th>\n    </tr>\n  </thead>\n  <tbody>\n    <tr>\n      <th>count</th>\n      <td>8514.000000</td>\n      <td>8512.000000</td>\n      <td>8510.000000</td>\n      <td>8485.000000</td>\n      <td>8510.000000</td>\n      <td>8505.000000</td>\n      <td>8693.000000</td>\n      <td>8693.000000</td>\n      <td>8693.000000</td>\n    </tr>\n    <tr>\n      <th>mean</th>\n      <td>28.827930</td>\n      <td>224.687617</td>\n      <td>458.077203</td>\n      <td>173.729169</td>\n      <td>311.138778</td>\n      <td>304.854791</td>\n      <td>4633.389624</td>\n      <td>1.517773</td>\n      <td>1440.866329</td>\n    </tr>\n    <tr>\n      <th>std</th>\n      <td>14.489021</td>\n      <td>666.717663</td>\n      <td>1611.489240</td>\n      <td>604.696458</td>\n      <td>1136.705535</td>\n      <td>1145.717189</td>\n      <td>2671.028856</td>\n      <td>1.054241</td>\n      <td>2803.045694</td>\n    </tr>\n    <tr>\n      <th>min</th>\n      <td>0.000000</td>\n      <td>0.000000</td>\n      <td>0.000000</td>\n      <td>0.000000</td>\n      <td>0.000000</td>\n      <td>0.000000</td>\n      <td>1.000000</td>\n      <td>1.000000</td>\n      <td>0.000000</td>\n    </tr>\n    <tr>\n      <th>25%</th>\n      <td>19.000000</td>\n      <td>0.000000</td>\n      <td>0.000000</td>\n      <td>0.000000</td>\n      <td>0.000000</td>\n      <td>0.000000</td>\n      <td>2319.000000</td>\n      <td>1.000000</td>\n      <td>0.000000</td>\n    </tr>\n    <tr>\n      <th>50%</th>\n      <td>27.000000</td>\n      <td>0.000000</td>\n      <td>0.000000</td>\n      <td>0.000000</td>\n      <td>0.000000</td>\n      <td>0.000000</td>\n      <td>4630.000000</td>\n      <td>1.000000</td>\n      <td>716.000000</td>\n    </tr>\n    <tr>\n      <th>75%</th>\n      <td>38.000000</td>\n      <td>47.000000</td>\n      <td>76.000000</td>\n      <td>27.000000</td>\n      <td>59.000000</td>\n      <td>46.000000</td>\n      <td>6883.000000</td>\n      <td>2.000000</td>\n      <td>1441.000000</td>\n    </tr>\n    <tr>\n      <th>max</th>\n      <td>79.000000</td>\n      <td>14327.000000</td>\n      <td>29813.000000</td>\n      <td>23492.000000</td>\n      <td>22408.000000</td>\n      <td>24133.000000</td>\n      <td>9280.000000</td>\n      <td>8.000000</td>\n      <td>35987.000000</td>\n    </tr>\n  </tbody>\n</table>\n</div>"
     },
     "execution_count": 80,
     "metadata": {},
     "output_type": "execute_result"
    }
   ],
   "source": [
    "train.describe()"
   ],
   "metadata": {
    "collapsed": false,
    "pycharm": {
     "name": "#%%\n"
    }
   }
  },
  {
   "cell_type": "code",
   "execution_count": 81,
   "outputs": [
    {
     "data": {
      "text/plain": "               Age   RoomService     FoodCourt  ShoppingMall           Spa  \\\ncount  4186.000000   4195.000000   4171.000000   4179.000000   4176.000000   \nmean     28.658146    219.266269    439.484296    177.295525    303.052443   \nstd      14.179072    607.011289   1527.663045    560.821123   1117.186015   \nmin       0.000000      0.000000      0.000000      0.000000      0.000000   \n25%      19.000000      0.000000      0.000000      0.000000      0.000000   \n50%      26.000000      0.000000      0.000000      0.000000      0.000000   \n75%      37.000000     53.000000     78.000000     33.000000     50.000000   \nmax      79.000000  11567.000000  25273.000000   8292.000000  19844.000000   \n\n             VRDeck      groupId  groupPassengerId  totalSpending  \ncount   4197.000000  4277.000000       4277.000000     4277.00000  \nmean     310.710031  4639.296469          1.498714     1417.68202  \nstd     1246.994742  2716.197368          1.018221     2816.40210  \nmin        0.000000    13.000000          1.000000        0.00000  \n25%        0.000000  2249.000000          1.000000        0.00000  \n50%        0.000000  4639.000000          1.000000      714.00000  \n75%       36.000000  7030.000000          2.000000     1444.00000  \nmax    22272.000000  9277.000000          8.000000    33666.00000  ",
      "text/html": "<div>\n<style scoped>\n    .dataframe tbody tr th:only-of-type {\n        vertical-align: middle;\n    }\n\n    .dataframe tbody tr th {\n        vertical-align: top;\n    }\n\n    .dataframe thead th {\n        text-align: right;\n    }\n</style>\n<table border=\"1\" class=\"dataframe\">\n  <thead>\n    <tr style=\"text-align: right;\">\n      <th></th>\n      <th>Age</th>\n      <th>RoomService</th>\n      <th>FoodCourt</th>\n      <th>ShoppingMall</th>\n      <th>Spa</th>\n      <th>VRDeck</th>\n      <th>groupId</th>\n      <th>groupPassengerId</th>\n      <th>totalSpending</th>\n    </tr>\n  </thead>\n  <tbody>\n    <tr>\n      <th>count</th>\n      <td>4186.000000</td>\n      <td>4195.000000</td>\n      <td>4171.000000</td>\n      <td>4179.000000</td>\n      <td>4176.000000</td>\n      <td>4197.000000</td>\n      <td>4277.000000</td>\n      <td>4277.000000</td>\n      <td>4277.00000</td>\n    </tr>\n    <tr>\n      <th>mean</th>\n      <td>28.658146</td>\n      <td>219.266269</td>\n      <td>439.484296</td>\n      <td>177.295525</td>\n      <td>303.052443</td>\n      <td>310.710031</td>\n      <td>4639.296469</td>\n      <td>1.498714</td>\n      <td>1417.68202</td>\n    </tr>\n    <tr>\n      <th>std</th>\n      <td>14.179072</td>\n      <td>607.011289</td>\n      <td>1527.663045</td>\n      <td>560.821123</td>\n      <td>1117.186015</td>\n      <td>1246.994742</td>\n      <td>2716.197368</td>\n      <td>1.018221</td>\n      <td>2816.40210</td>\n    </tr>\n    <tr>\n      <th>min</th>\n      <td>0.000000</td>\n      <td>0.000000</td>\n      <td>0.000000</td>\n      <td>0.000000</td>\n      <td>0.000000</td>\n      <td>0.000000</td>\n      <td>13.000000</td>\n      <td>1.000000</td>\n      <td>0.00000</td>\n    </tr>\n    <tr>\n      <th>25%</th>\n      <td>19.000000</td>\n      <td>0.000000</td>\n      <td>0.000000</td>\n      <td>0.000000</td>\n      <td>0.000000</td>\n      <td>0.000000</td>\n      <td>2249.000000</td>\n      <td>1.000000</td>\n      <td>0.00000</td>\n    </tr>\n    <tr>\n      <th>50%</th>\n      <td>26.000000</td>\n      <td>0.000000</td>\n      <td>0.000000</td>\n      <td>0.000000</td>\n      <td>0.000000</td>\n      <td>0.000000</td>\n      <td>4639.000000</td>\n      <td>1.000000</td>\n      <td>714.00000</td>\n    </tr>\n    <tr>\n      <th>75%</th>\n      <td>37.000000</td>\n      <td>53.000000</td>\n      <td>78.000000</td>\n      <td>33.000000</td>\n      <td>50.000000</td>\n      <td>36.000000</td>\n      <td>7030.000000</td>\n      <td>2.000000</td>\n      <td>1444.00000</td>\n    </tr>\n    <tr>\n      <th>max</th>\n      <td>79.000000</td>\n      <td>11567.000000</td>\n      <td>25273.000000</td>\n      <td>8292.000000</td>\n      <td>19844.000000</td>\n      <td>22272.000000</td>\n      <td>9277.000000</td>\n      <td>8.000000</td>\n      <td>33666.00000</td>\n    </tr>\n  </tbody>\n</table>\n</div>"
     },
     "execution_count": 81,
     "metadata": {},
     "output_type": "execute_result"
    }
   ],
   "source": [
    "test.describe()"
   ],
   "metadata": {
    "collapsed": false,
    "pycharm": {
     "name": "#%%\n"
    }
   }
  },
  {
   "cell_type": "code",
   "execution_count": 82,
   "outputs": [
    {
     "data": {
      "text/plain": "PassengerId           0\nHomePlanet          201\nCryoSleep           217\nCabin               199\nDestination         182\nAge                 179\nVIP                 203\nRoomService         181\nFoodCourt           183\nShoppingMall        208\nSpa                 183\nVRDeck              188\nName                200\nTransported           0\ngroupId               0\ngroupPassengerId      0\ndeck                199\nnum                 199\nside                199\ntotalSpending         0\ndtype: int64"
     },
     "execution_count": 82,
     "metadata": {},
     "output_type": "execute_result"
    }
   ],
   "source": [
    "train.isnull().sum()"
   ],
   "metadata": {
    "collapsed": false,
    "pycharm": {
     "name": "#%%\n"
    }
   }
  },
  {
   "cell_type": "code",
   "execution_count": 83,
   "outputs": [
    {
     "data": {
      "text/plain": "PassengerId           0\nHomePlanet           87\nCryoSleep            93\nCabin               100\nDestination          92\nAge                  91\nVIP                  93\nRoomService          82\nFoodCourt           106\nShoppingMall         98\nSpa                 101\nVRDeck               80\nName                 94\ngroupId               0\ngroupPassengerId      0\ndeck                100\nnum                 100\nside                100\ntotalSpending         0\ndtype: int64"
     },
     "execution_count": 83,
     "metadata": {},
     "output_type": "execute_result"
    }
   ],
   "source": [
    "test.isnull().sum()"
   ],
   "metadata": {
    "collapsed": false,
    "pycharm": {
     "name": "#%%\n"
    }
   }
  },
  {
   "cell_type": "code",
   "execution_count": 84,
   "outputs": [
    {
     "data": {
      "text/plain": "PassengerId         0.000000\nHomePlanet          0.023122\nCryoSleep           0.024963\nCabin               0.022892\nDestination         0.020936\nAge                 0.020591\nVIP                 0.023352\nRoomService         0.020821\nFoodCourt           0.021051\nShoppingMall        0.023927\nSpa                 0.021051\nVRDeck              0.021627\nName                0.023007\nTransported         0.000000\ngroupId             0.000000\ngroupPassengerId    0.000000\ndeck                0.022892\nnum                 0.022892\nside                0.022892\ntotalSpending       0.000000\ndtype: float64"
     },
     "execution_count": 84,
     "metadata": {},
     "output_type": "execute_result"
    }
   ],
   "source": [
    "train.isnull().sum() / train.shape[0]"
   ],
   "metadata": {
    "collapsed": false,
    "pycharm": {
     "name": "#%%\n"
    }
   }
  },
  {
   "cell_type": "code",
   "execution_count": 85,
   "outputs": [
    {
     "data": {
      "text/plain": "PassengerId         0.000000\nHomePlanet          0.020341\nCryoSleep           0.021744\nCabin               0.023381\nDestination         0.021510\nAge                 0.021277\nVIP                 0.021744\nRoomService         0.019172\nFoodCourt           0.024784\nShoppingMall        0.022913\nSpa                 0.023615\nVRDeck              0.018705\nName                0.021978\ngroupId             0.000000\ngroupPassengerId    0.000000\ndeck                0.023381\nnum                 0.023381\nside                0.023381\ntotalSpending       0.000000\ndtype: float64"
     },
     "execution_count": 85,
     "metadata": {},
     "output_type": "execute_result"
    }
   ],
   "source": [
    "test.isnull().sum() / test.shape[0]"
   ],
   "metadata": {
    "collapsed": false,
    "pycharm": {
     "name": "#%%\n"
    }
   }
  },
  {
   "cell_type": "code",
   "execution_count": 86,
   "outputs": [
    {
     "data": {
      "text/plain": "<AxesSubplot:>"
     },
     "execution_count": 86,
     "metadata": {},
     "output_type": "execute_result"
    },
    {
     "data": {
      "text/plain": "<Figure size 432x288 with 1 Axes>",
      "image/png": "[encoded data removed]"
     },
     "metadata": {},
     "output_type": "display_data"
    }
   ],
   "source": [
    "sns.heatmap(train.isnull(), yticklabels=False, cbar=False, cmap='viridis')"
   ],
   "metadata": {
    "collapsed": false,
    "pycharm": {
     "name": "#%%\n"
    }
   }
  },
  {
   "cell_type": "code",
   "execution_count": 87,
   "outputs": [],
   "source": [
    "sns.set_style('whitegrid')"
   ],
   "metadata": {
    "collapsed": false,
    "pycharm": {
     "name": "#%%\n"
    }
   }
  },
  {
   "cell_type": "code",
   "execution_count": 90,
   "outputs": [
    {
     "data": {
      "text/plain": "<seaborn.axisgrid.FacetGrid at 0x1d7a1434a90>"
     },
     "execution_count": 90,
     "metadata": {},
     "output_type": "execute_result"
    },
    {
     "data": {
      "text/plain": "<Figure size 864x576 with 0 Axes>"
     },
     "metadata": {},
     "output_type": "display_data"
    },
    {
     "data": {
      "text/plain": "<Figure size 360x360 with 1 Axes>",
      "image/png": "[encoded data removed]"
     },
     "metadata": {},
     "output_type": "display_data"
    }
   ],
   "source": [
    "plt.figure(figsize=(12, 8))\n",
    "sns.displot(train,x=train['totalSpending'],binwidth=1000,bins=35)"
   ],
   "metadata": {
    "collapsed": false,
    "pycharm": {
     "name": "#%%\n"
    }
   }
  },
  {
   "cell_type": "code",
   "execution_count": 96,
   "outputs": [
    {
     "data": {
      "text/plain": "<seaborn.axisgrid.FacetGrid at 0x1d7a2a43908>"
     },
     "execution_count": 96,
     "metadata": {},
     "output_type": "execute_result"
    },
    {
     "data": {
      "text/plain": "<Figure size 360x360 with 1 Axes>",
      "image/png": "[encoded data removed]"
     },
     "metadata": {},
     "output_type": "display_data"
    }
   ],
   "source": [
    "sns.displot(train,x=train['Age'],binwidth=5,bins=20)"
   ],
   "metadata": {
    "collapsed": false,
    "pycharm": {
     "name": "#%%\n"
    }
   }
  },
  {
   "cell_type": "code",
   "execution_count": 97,
   "outputs": [
    {
     "name": "stdout",
     "output_type": "stream",
     "text": [
      "Index(['Age', 'RoomService', 'FoodCourt', 'ShoppingMall', 'Spa', 'VRDeck',\n",
      "       'Transported', 'groupId', 'groupPassengerId', 'totalSpending'],\n",
      "      dtype='object') ['CryoSleep', 'VIP', 'Cabin', 'HomePlanet', 'num', 'deck', 'side', 'PassengerId', 'Name', 'Destination']\n"
     ]
    }
   ],
   "source": [
    "num_cols=train._get_numeric_data().columns\n",
    "cat_cols=list(set(train.columns)-set(num_cols))\n",
    "print(num_cols,cat_cols)"
   ],
   "metadata": {
    "collapsed": false,
    "pycharm": {
     "name": "#%%\n"
    }
   }
  },
  {
   "cell_type": "code",
   "execution_count": null,
   "outputs": [],
   "source": [],
   "metadata": {
    "collapsed": false,
    "pycharm": {
     "name": "#%%\n"
    }
   }
  }
 ],
 "metadata": {
  "kernelspec": {
   "display_name": "Python 3",
   "language": "python",
   "name": "python3"
  },
  "language_info": {
   "codemirror_mode": {
    "name": "ipython",
    "version": 2
   },
   "file_extension": ".py",
   "mimetype": "text/x-python",
   "name": "python",
   "nbconvert_exporter": "python",
   "pygments_lexer": "ipython2",
   "version": "2.7.6"
  }
 },
 "nbformat": 4,
 "nbformat_minor": 0
}